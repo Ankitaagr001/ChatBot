{
  "cells": [
    {
      "cell_type": "markdown",
      "metadata": {
        "id": "view-in-github",
        "colab_type": "text"
      },
      "source": [
        "<a href=\"https://colab.research.google.com/github/Ankitaagr001/ChatBot/blob/main/CHATBOT.ipynb\" target=\"_parent\"><img src=\"https://colab.research.google.com/assets/colab-badge.svg\" alt=\"Open In Colab\"/></a>"
      ]
    },
    {
      "cell_type": "code",
      "execution_count": null,
      "metadata": {
        "id": "yZtU4XIieLiL"
      },
      "outputs": [],
      "source": [
        "import io\n",
        "import random\n",
        "import string\n",
        "import warnings\n",
        "import numpy as np\n",
        "from sklearn.feature_extraction.text import TfidfVectorizer\n",
        "from sklearn.metrics.pairwise import cosine_similarity\n",
        "import warnings\n",
        "warnings.filterwarnings('ignore')\n"
      ]
    },
    {
      "cell_type": "code",
      "execution_count": null,
      "metadata": {
        "colab": {
          "base_uri": "https://localhost:8080/"
        },
        "id": "bgYg8VO9e066",
        "outputId": "88ccddfc-fa8e-461c-fc48-ae57d6585c20"
      },
      "outputs": [
        {
          "name": "stdout",
          "output_type": "stream",
          "text": [
            "Requirement already satisfied: nltk in /usr/local/lib/python3.10/dist-packages (3.8.1)\n",
            "Requirement already satisfied: click in /usr/local/lib/python3.10/dist-packages (from nltk) (8.1.7)\n",
            "Requirement already satisfied: joblib in /usr/local/lib/python3.10/dist-packages (from nltk) (1.4.0)\n",
            "Requirement already satisfied: regex>=2021.8.3 in /usr/local/lib/python3.10/dist-packages (from nltk) (2023.12.25)\n",
            "Requirement already satisfied: tqdm in /usr/local/lib/python3.10/dist-packages (from nltk) (4.66.2)\n"
          ]
        }
      ],
      "source": [
        "pip install nltk"
      ]
    },
    {
      "cell_type": "code",
      "execution_count": null,
      "metadata": {
        "colab": {
          "base_uri": "https://localhost:8080/"
        },
        "id": "oEnWhi5ae1nq",
        "outputId": "fe22383f-1f2e-4552-f71f-2f42fe230e37"
      },
      "outputs": [
        {
          "data": {
            "text/plain": [
              "True"
            ]
          },
          "execution_count": 3,
          "metadata": {},
          "output_type": "execute_result"
        }
      ],
      "source": [
        "import nltk\n",
        "from nltk.stem import WordNetLemmatizer\n",
        "nltk.download('popular', quiet=True)\n",
        "\n"
      ]
    },
    {
      "cell_type": "code",
      "execution_count": null,
      "metadata": {
        "id": "oX5YgNdbgx5n"
      },
      "outputs": [],
      "source": [
        "f= open('chatbot.txt', 'r', errors = 'ignore')\n",
        "raw = f.read()\n",
        "raw = raw.lower()"
      ]
    },
    {
      "cell_type": "markdown",
      "metadata": {
        "id": "UjfuNytUlPDk"
      },
      "source": [
        "**TOKENISATION**"
      ]
    },
    {
      "cell_type": "code",
      "execution_count": null,
      "metadata": {
        "id": "kPogK2BdlMr7"
      },
      "outputs": [],
      "source": [
        "sent_tokens = nltk.sent_tokenize(raw)\n",
        "word_tokens = nltk.word_tokenize(raw)"
      ]
    },
    {
      "cell_type": "markdown",
      "metadata": {
        "id": "DTQrjnJflite"
      },
      "source": [
        "**Pre**-**Processing**"
      ]
    },
    {
      "cell_type": "code",
      "execution_count": null,
      "metadata": {
        "id": "r9OXaruwlMpP"
      },
      "outputs": [],
      "source": [
        "lemmer = WordNetLemmatizer()\n",
        "def LemTokens(tokens):\n",
        "  return [lemmer.lemmatize(token) for token in tokens]\n",
        "remove_punct_dict = dict((ord(punct), None) for punct in string.punctuation)\n",
        "def LemNormalize(text):\n",
        "  return LemTokens(nltk.word_tokenize(text.lower().translate(remove_punct_dict)))"
      ]
    },
    {
      "cell_type": "markdown",
      "metadata": {
        "id": "Gv_MTM_4maQS"
      },
      "source": [
        "**Keyword** **matching**"
      ]
    },
    {
      "cell_type": "code",
      "execution_count": null,
      "metadata": {
        "id": "uyRbk4mqlMgm"
      },
      "outputs": [],
      "source": [
        "GREETING_INPUTS = (\"hello\",\"hi\",\"greetings\",\"sup\",\"what's up\",\"hey\")\n",
        "GREETING_RESPONSES = [\"hi\",\"hey\",\"*nods*\", \"hi there\", \"hello\", \"I am glad\", \"Good morning\"]\n",
        "HOW_ARE_YOU_INPUTS = (\"how are you\", \"how's it going\", \"how do you do\")\n",
        "HOW_ARE_YOU_RESPONSES = [\"I'm good, thanks!\", \"Doing well, how about you?\", \"I am fine, thank you!\"]\n",
        "def greeting(sentence):\n",
        "    for word in sentence.split():\n",
        "        if word.lower() in GREETING_INPUTS:\n",
        "            return random.choice(GREETING_RESPONSES)\n",
        "\n",
        "    # Check for 'how are you' inputs\n",
        "    if any(phrase in sentence.lower() for phrase in HOW_ARE_YOU_INPUTS):\n",
        "        return random.choice(HOW_ARE_YOU_RESPONSES)\n",
        "\n",
        "    return None"
      ]
    },
    {
      "cell_type": "markdown",
      "metadata": {
        "id": "rY3NCRhdxuUQ"
      },
      "source": [
        "**Weather** **Responses**"
      ]
    },
    {
      "cell_type": "code",
      "execution_count": null,
      "metadata": {
        "colab": {
          "base_uri": "https://localhost:8080/"
        },
        "id": "6QUL9_UYxt-M",
        "outputId": "1918e88a-f317-4752-92a6-52f7d3fd1eb1"
      },
      "outputs": [
        {
          "name": "stdout",
          "output_type": "stream",
          "text": [
            "Requirement already satisfied: requests in /usr/local/lib/python3.10/dist-packages (2.31.0)\n",
            "Requirement already satisfied: charset-normalizer<4,>=2 in /usr/local/lib/python3.10/dist-packages (from requests) (3.3.2)\n",
            "Requirement already satisfied: idna<4,>=2.5 in /usr/local/lib/python3.10/dist-packages (from requests) (3.6)\n",
            "Requirement already satisfied: urllib3<3,>=1.21.1 in /usr/local/lib/python3.10/dist-packages (from requests) (2.0.7)\n",
            "Requirement already satisfied: certifi>=2017.4.17 in /usr/local/lib/python3.10/dist-packages (from requests) (2024.2.2)\n"
          ]
        }
      ],
      "source": [
        "pip install requests"
      ]
    },
    {
      "cell_type": "code",
      "execution_count": null,
      "metadata": {
        "id": "U3RoEGioyH-F"
      },
      "outputs": [],
      "source": [
        "import requests\n",
        "\n",
        "def get_weather(city):\n",
        "    api_key = \"061f4a6ce4b8d3a6938525942f52718f\"\n",
        "    base_url = \"http://api.openweathermap.org/data/2.5/weather?\"\n",
        "    complete_url = f\"{base_url}appid={api_key}&q={city}&units=metric\"\n",
        "    response = requests.get(complete_url)\n",
        "    weather_data = response.json()\n",
        "    if weather_data[\"cod\"] != \"404\":\n",
        "        main = weather_data[\"main\"]\n",
        "        temperature = main[\"temp\"]\n",
        "        humidity = main[\"humidity\"]\n",
        "        weather_description = weather_data[\"weather\"][0][\"description\"]\n",
        "        weather_report = (f\"Temperature: {temperature}°C\\n\"\n",
        "                          f\"Humidity: {humidity}%\\n\"\n",
        "                          f\"Description: {weather_description.capitalize()}\")\n",
        "    else:\n",
        "        weather_report = \"Sorry, I couldn't find that city.\"\n",
        "    return weather_report"
      ]
    },
    {
      "cell_type": "code",
      "execution_count": null,
      "metadata": {
        "id": "QTOHwH1dyH7J"
      },
      "outputs": [],
      "source": []
    },
    {
      "cell_type": "markdown",
      "metadata": {
        "id": "Pe2JeIQOn1tL"
      },
      "source": [
        "**Generating** **Response**"
      ]
    },
    {
      "cell_type": "code",
      "execution_count": null,
      "metadata": {
        "id": "-r9-NfGxyz9S"
      },
      "outputs": [],
      "source": [
        "def response(user_response):\n",
        "    robo_response = ''\n",
        "    if 'weather in' in user_response:\n",
        "        words = user_response.split()\n",
        "        city_index = words.index('in') + 1\n",
        "        city_name = words[city_index]\n",
        "        robo_response += get_weather(city_name)\n",
        "        return robo_response\n",
        "    else:\n",
        "        sent_tokens.append(user_response)\n",
        "        TfidfVec = TfidfVectorizer(tokenizer=LemNormalize, stop_words='english')\n",
        "        tfidf = TfidfVec.fit_transform(sent_tokens)\n",
        "        vals = cosine_similarity(tfidf[-1], tfidf)\n",
        "        idx = vals.argsort()[0][-2]\n",
        "        flat = vals.flatten()\n",
        "        flat.sort()\n",
        "        req_tfidf = flat[-2]\n",
        "        if req_tfidf == 0:\n",
        "            robo_response += \"I am sorry! I don't understand you\"\n",
        "            return robo_response\n",
        "        else:\n",
        "            robo_response += sent_tokens[idx]\n",
        "            return robo_response\n"
      ]
    },
    {
      "cell_type": "code",
      "execution_count": null,
      "metadata": {
        "id": "vSnDkDwb_ify"
      },
      "outputs": [],
      "source": [
        "import re\n",
        "def parse_weather_query(user_response):\n",
        "    # Regex to find patterns like \"weather in\", \"weather at\", etc.\n",
        "    match = re.search(r\"weather (?:in|at|for)? ?([a-zA-Z\\s]+)\", user_response, re.IGNORECASE)\n",
        "    if match:\n",
        "        # Extract the city name from the regex group\n",
        "        city_name = match.group(1).strip()\n",
        "        return get_weather(city_name)\n",
        "    return None\n",
        "def response(user_response):\n",
        "    robo_response = ''\n",
        "    # Check for weather queries first\n",
        "    weather_response = parse_weather_query(user_response)\n",
        "    if weather_response:\n",
        "        return weather_response\n",
        "    else:\n",
        "        sent_tokens.append(user_response)\n",
        "        TfidfVec = TfidfVectorizer(tokenizer=LemNormalize, stop_words='english')\n",
        "        tfidf = TfidfVec.fit_transform(sent_tokens)\n",
        "        vals = cosine_similarity(tfidf[-1], tfidf)\n",
        "        idx = vals.argsort()[0][-2]\n",
        "        flat = vals.flatten()\n",
        "        flat.sort()\n",
        "        req_tfidf = flat[-2]\n",
        "        if req_tfidf == 0:\n",
        "            robo_response += \"I am sorry! I don't understand you\"\n",
        "        else:\n",
        "            robo_response += sent_tokens[idx]\n",
        "            sent_tokens.remove(user_response)  # Only remove if it was added and found\n",
        "        return robo_response\n"
      ]
    },
    {
      "cell_type": "code",
      "execution_count": null,
      "metadata": {
        "colab": {
          "background_save": true,
          "base_uri": "https://localhost:8080/"
        },
        "id": "z-vVbZC9BcQ6",
        "outputId": "111e6f7e-5ab3-4bfe-8c83-13d4e1c26522"
      },
      "outputs": [
        {
          "name": "stdout",
          "output_type": "stream",
          "text": [
            "ROBO: My name is Robo. I will answer your queries about Chatbots. If you want to exit, type Bye!\n",
            "ROBO: Temperature: 32.05°C\n",
            "Humidity: 19%\n",
            "Description: Haze\n",
            "ROBO: I am sorry! I don't understand you\n",
            "ROBO: Temperature: 32.05°C\n",
            "Humidity: 19%\n",
            "Description: Haze\n",
            "ROBO: I'm good, thanks!\n",
            "ROBO: I'm good, thanks!\n",
            "ROBO: I am sorry! I don't understand you\n"
          ]
        }
      ],
      "source": [
        "import re\n",
        "\n",
        "# Assume all previous functions like response(), greeting(), get_weather() are defined\n",
        "flag = True\n",
        "print(\"ROBO: My name is Robo. I will answer your queries about Chatbots. If you want to exit, type Bye!\")\n",
        "\n",
        "while(flag):\n",
        "    user_response = input()\n",
        "    user_response = user_response.lower()\n",
        "\n",
        "    if(user_response != 'bye'):\n",
        "        if(user_response in ['thanks', 'thank you']):\n",
        "            flag = False\n",
        "            print(\"ROBO: You are welcome..\")\n",
        "        else:\n",
        "            # Check if the input is a weather query\n",
        "            weather_response = parse_weather_query(user_response)\n",
        "            if weather_response:\n",
        "                print(\"ROBO: \" + weather_response)\n",
        "            else:\n",
        "                # Use the existing greeting function to check for greetings\n",
        "                response_greet = greeting(user_response)\n",
        "                if response_greet is not None:\n",
        "                    print(\"ROBO: \" + response_greet)\n",
        "                else:\n",
        "                    # Use the response function for other queries\n",
        "                    response_text = response(user_response)\n",
        "                    print(\"ROBO: \", end=\"\")\n",
        "                    print(response_text)\n",
        "                    # Remove the user_response from sent_tokens only if it was added earlier\n",
        "                    if 'weather' not in user_response and user_response not in sent_tokens:\n",
        "                        if user_response in sent_tokens:\n",
        "                            sent_tokens.remove(user_response)\n",
        "    else:\n",
        "        flag = False\n",
        "        print(\"ROBO: Bye! Take care..\")\n"
      ]
    },
    {
      "cell_type": "code",
      "source": [],
      "metadata": {
        "id": "BiS-u_Qy1YKn"
      },
      "execution_count": null,
      "outputs": []
    }
  ],
  "metadata": {
    "colab": {
      "provenance": [],
      "authorship_tag": "ABX9TyNthMffeTLVQNCAqsKUZwjx",
      "include_colab_link": true
    },
    "kernelspec": {
      "display_name": "Python 3",
      "name": "python3"
    },
    "language_info": {
      "name": "python"
    }
  },
  "nbformat": 4,
  "nbformat_minor": 0
}